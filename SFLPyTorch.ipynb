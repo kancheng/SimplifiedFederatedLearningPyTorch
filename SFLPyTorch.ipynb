{
  "cells": [
    {
      "cell_type": "markdown",
      "source": [
        "# Packege & Env."
      ],
      "metadata": {
        "id": "20Y1vMGBQ4K5"
      }
    },
    {
      "cell_type": "code",
      "source": [
        "import torch\n",
        "import torch.nn as nn\n",
        "import torch.nn.functional as F\n",
        "import torch.optim as optim\n",
        "from torchvision import datasets, transforms\n",
        "import numpy as np\n",
        "from tqdm import tqdm\n",
        "\n",
        "from PIL import Image\n",
        "import matplotlib.image as mpimg\n",
        "import matplotlib.pyplot as plt\n",
        "\n",
        "print('INFO. : PyTorch Version - ', torch.__version__)\n",
        "print('INFO. : Number of GPUs - ', torch.cuda.device_count())\n",
        "\n",
        "GPUNUM = torch.cuda.device_count()\n",
        "if GPUNUM == 0:\n",
        "    torch.cuda.is_available = lambda : False\n",
        "    device = torch.device('cuda' if torch.cuda.is_available() else 'cpu')\n",
        "    print('INFO. : This training job does not use GPU for training.')\n",
        "else :\n",
        "    print('INFO. : This training job uses GPU for training.')\n",
        "\n",
        "\n",
        "import pandas as pd"
      ],
      "metadata": {
        "colab": {
          "base_uri": "https://localhost:8080/"
        },
        "id": "6G29N9MFJm17",
        "outputId": "5b51a151-9fc1-4eaa-9402-98c5519ac350"
      },
      "execution_count": null,
      "outputs": [
        {
          "output_type": "stream",
          "name": "stdout",
          "text": [
            "INFO. : PyTorch Version -  2.2.1+cu121\n",
            "INFO. : Number of GPUs -  0\n",
            "INFO. : This training job does not use GPU for training.\n"
          ]
        }
      ]
    },
    {
      "cell_type": "markdown",
      "source": [
        "# Setting."
      ],
      "metadata": {
        "id": "sc28BeLkRHs7"
      }
    },
    {
      "cell_type": "code",
      "source": [
        "summary_df = {}\n",
        "summary_idx= ['Average Train Loss', 'Test Loss', 'Test Acc']\n",
        "summary_fl_iid={}\n",
        "summary_fl_noniid={}\n",
        "summary_centralization={}"
      ],
      "metadata": {
        "id": "KLLTuQ6XQ3oh"
      },
      "execution_count": null,
      "outputs": []
    },
    {
      "cell_type": "markdown",
      "source": [
        "# Class."
      ],
      "metadata": {
        "id": "LQ604GMlRLyX"
      }
    },
    {
      "cell_type": "code",
      "execution_count": null,
      "metadata": {
        "id": "EAP7toTkBcSr"
      },
      "outputs": [],
      "source": [
        "class Net(nn.Module):\n",
        "    def __init__(self):\n",
        "        super(Net, self).__init__()\n",
        "        self.conv1 = nn.Conv2d(1, 32, kernel_size=3, stride=2, padding=1)\n",
        "        self.conv2 = nn.Conv2d(32, 64, kernel_size=3, stride=2, padding=1)\n",
        "        self.conv3 = nn.Conv2d(64, 128, kernel_size=3, stride=2, padding=1)\n",
        "        self.fc1 = nn.Linear(2048, 128)\n",
        "        self.fc2 = nn.Linear(128, 10)\n",
        "\n",
        "    def forward(self, x):\n",
        "        x = self.conv1(x)\n",
        "        x = F.relu(x)\n",
        "        x = self.conv2(x)\n",
        "        x = F.relu(x)\n",
        "        x = self.conv3(x)\n",
        "        x = F.relu(x)\n",
        "        x = torch.flatten(x, 1)\n",
        "        x = self.fc1(x)\n",
        "        x = F.relu(x)\n",
        "        x = self.fc2(x)\n",
        "        output = F.log_softmax(x, dim=1)\n",
        "        return output\n",
        "\n",
        "def client_update(client_model, optimizer, train_loader, epoch=5):\n",
        "    model.train()\n",
        "    total_samples = 0\n",
        "    correct_predictions = 0\n",
        "    for e in range(epoch):\n",
        "        for batch_idx, (data, target) in enumerate(train_loader):\n",
        "            if GPUNUM == 0:\n",
        "                data, target = data.cpu(), target.cpu()\n",
        "            else :\n",
        "                data, target = data.cuda(), target.cuda()\n",
        "            # data, target = data.cuda(), target.cuda()\n",
        "            optimizer.zero_grad()\n",
        "            output = client_model(data)\n",
        "            loss = F.nll_loss(output, target)\n",
        "            loss.backward()\n",
        "            optimizer.step()\n",
        "            # Calculate accuracy within each batch\n",
        "            _, predicted = torch.max(output.data, 1)\n",
        "            total_samples += target.size(0)\n",
        "            correct_predictions += (predicted == target).sum().item()\n",
        "\n",
        "    # Calculate overall accuracy after all epochs\n",
        "    acc = correct_predictions / total_samples\n",
        "    return loss.item(),acc\n",
        "\n",
        "def server_aggregate(global_model, client_models):\n",
        "    global_dict = global_model.state_dict()\n",
        "    for k in global_dict.keys():\n",
        "        global_dict[k] = torch.stack([client_models[i].state_dict()[k] for i in range(len(client_models))], 0).mean(0)\n",
        "    global_model.load_state_dict(global_dict)\n",
        "    for model in client_models:\n",
        "        model.load_state_dict(global_model.state_dict())\n",
        "\n",
        "def test(global_model, test_loader):\n",
        "    global_model.eval()\n",
        "    model.eval()\n",
        "    test_loss = 0\n",
        "    correct = 0\n",
        "    with torch.no_grad():\n",
        "        for data, target in test_loader:\n",
        "            if GPUNUM == 0:\n",
        "                data, target = data.cpu(), target.cpu()\n",
        "            else :\n",
        "                data, target = data.cuda(), target.cuda()\n",
        "            # data, target = data.cuda(), target.cuda()\n",
        "            output = global_model(data)\n",
        "            test_loss += F.nll_loss(output, target, reduction='sum').item()  # sum up batch loss\n",
        "            pred = output.argmax(dim=1, keepdim=True)  # get the index of the max log-probability\n",
        "            correct += pred.eq(target.view_as(pred)).sum().item()\n",
        "\n",
        "    test_loss /= len(test_loader.dataset)\n",
        "    acc = correct / len(test_loader.dataset)\n",
        "\n",
        "    return test_loss, acc"
      ]
    },
    {
      "cell_type": "markdown",
      "source": [
        "# IID Case."
      ],
      "metadata": {
        "id": "HmAli2teRSZ4"
      }
    },
    {
      "cell_type": "code",
      "execution_count": null,
      "metadata": {
        "colab": {
          "base_uri": "https://localhost:8080/",
          "height": 1000
        },
        "id": "X8SStxpABcSt",
        "outputId": "c7585fda-d9c5-474a-c785-085d1059e107"
      },
      "outputs": [
        {
          "output_type": "stream",
          "name": "stdout",
          "text": [
            "Downloading http://yann.lecun.com/exdb/mnist/train-images-idx3-ubyte.gz\n",
            "Failed to download (trying next):\n",
            "HTTP Error 403: Forbidden\n",
            "\n",
            "Downloading https://ossci-datasets.s3.amazonaws.com/mnist/train-images-idx3-ubyte.gz\n",
            "Downloading https://ossci-datasets.s3.amazonaws.com/mnist/train-images-idx3-ubyte.gz to ./data/MNIST/raw/train-images-idx3-ubyte.gz\n"
          ]
        },
        {
          "output_type": "stream",
          "name": "stderr",
          "text": [
            "100%|██████████| 9912422/9912422 [00:00<00:00, 60821795.18it/s]\n"
          ]
        },
        {
          "output_type": "stream",
          "name": "stdout",
          "text": [
            "Extracting ./data/MNIST/raw/train-images-idx3-ubyte.gz to ./data/MNIST/raw\n",
            "\n",
            "Downloading http://yann.lecun.com/exdb/mnist/train-labels-idx1-ubyte.gz\n",
            "Failed to download (trying next):\n",
            "HTTP Error 403: Forbidden\n",
            "\n",
            "Downloading https://ossci-datasets.s3.amazonaws.com/mnist/train-labels-idx1-ubyte.gz\n",
            "Downloading https://ossci-datasets.s3.amazonaws.com/mnist/train-labels-idx1-ubyte.gz to ./data/MNIST/raw/train-labels-idx1-ubyte.gz\n"
          ]
        },
        {
          "output_type": "stream",
          "name": "stderr",
          "text": [
            "100%|██████████| 28881/28881 [00:00<00:00, 36344342.58it/s]"
          ]
        },
        {
          "output_type": "stream",
          "name": "stdout",
          "text": [
            "Extracting ./data/MNIST/raw/train-labels-idx1-ubyte.gz to ./data/MNIST/raw\n",
            "\n",
            "Downloading http://yann.lecun.com/exdb/mnist/t10k-images-idx3-ubyte.gz\n",
            "Failed to download (trying next):\n",
            "HTTP Error 403: Forbidden\n",
            "\n",
            "Downloading https://ossci-datasets.s3.amazonaws.com/mnist/t10k-images-idx3-ubyte.gz\n"
          ]
        },
        {
          "output_type": "stream",
          "name": "stderr",
          "text": [
            "\n"
          ]
        },
        {
          "output_type": "stream",
          "name": "stdout",
          "text": [
            "Downloading https://ossci-datasets.s3.amazonaws.com/mnist/t10k-images-idx3-ubyte.gz to ./data/MNIST/raw/t10k-images-idx3-ubyte.gz\n"
          ]
        },
        {
          "output_type": "stream",
          "name": "stderr",
          "text": [
            "100%|██████████| 1648877/1648877 [00:00<00:00, 44184788.06it/s]"
          ]
        },
        {
          "output_type": "stream",
          "name": "stdout",
          "text": [
            "Extracting ./data/MNIST/raw/t10k-images-idx3-ubyte.gz to ./data/MNIST/raw\n"
          ]
        },
        {
          "output_type": "stream",
          "name": "stderr",
          "text": [
            "\n"
          ]
        },
        {
          "output_type": "stream",
          "name": "stdout",
          "text": [
            "\n",
            "Downloading http://yann.lecun.com/exdb/mnist/t10k-labels-idx1-ubyte.gz\n",
            "Failed to download (trying next):\n",
            "HTTP Error 403: Forbidden\n",
            "\n",
            "Downloading https://ossci-datasets.s3.amazonaws.com/mnist/t10k-labels-idx1-ubyte.gz\n",
            "Downloading https://ossci-datasets.s3.amazonaws.com/mnist/t10k-labels-idx1-ubyte.gz to ./data/MNIST/raw/t10k-labels-idx1-ubyte.gz\n"
          ]
        },
        {
          "output_type": "stream",
          "name": "stderr",
          "text": [
            "100%|██████████| 4542/4542 [00:00<00:00, 3039331.33it/s]"
          ]
        },
        {
          "output_type": "stream",
          "name": "stdout",
          "text": [
            "Extracting ./data/MNIST/raw/t10k-labels-idx1-ubyte.gz to ./data/MNIST/raw\n",
            "\n"
          ]
        },
        {
          "output_type": "stream",
          "name": "stderr",
          "text": [
            "\n"
          ]
        },
        {
          "output_type": "stream",
          "name": "stdout",
          "text": [
            "0-th round\n",
            "average train loss 0.824 | test loss 0.651 | test acc: 0.805\n",
            "1-th round\n",
            "average train loss 0.245 | test loss 0.303 | test acc: 0.913\n",
            "2-th round\n",
            "average train loss 0.0606 | test loss 0.223 | test acc: 0.934\n",
            "3-th round\n",
            "average train loss 0.0334 | test loss 0.193 | test acc: 0.947\n",
            "4-th round\n",
            "average train loss 0.0134 | test loss 0.164 | test acc: 0.955\n",
            "INFO. Summary.\n",
            "                    0-th round  1-th round  2-th round  3-th round  4-th round\n",
            "Average Train Loss    0.823798    0.244643    0.060557    0.033372    0.013370\n",
            "Test Loss             0.650846    0.302743    0.222621    0.192596    0.163995\n",
            "Test Acc              0.805500    0.912900    0.934300    0.946600    0.955000\n",
            "Trainig Complete.\n"
          ]
        },
        {
          "output_type": "display_data",
          "data": {
            "text/plain": [
              "<Figure size 640x480 with 2 Axes>"
            ],
            "image/png": "[encoded data removed]"
          },
          "metadata": {}
        }
      ],
      "source": [
        "# IID case: all the clients have images of all the classes\n",
        "\n",
        "# Hyperparameters\n",
        "\n",
        "num_clients = 100\n",
        "num_selected = 10\n",
        "num_rounds = 5\n",
        "epochs = 5\n",
        "batch_size = 32\n",
        "\n",
        "# Log.\n",
        "case_summary_df = {}\n",
        "\n",
        "# Creating decentralized datasets\n",
        "\n",
        "traindata = datasets.MNIST('./data', train=True, download=True,\n",
        "                       transform=transforms.Compose([transforms.ToTensor(),transforms.Normalize((0.1307,), (0.3081,))])\n",
        "                       )\n",
        "traindata_split = torch.utils.data.random_split(traindata, [int(traindata.data.shape[0] / num_clients) for _ in range(num_clients)])\n",
        "train_loader = [torch.utils.data.DataLoader(x, batch_size=batch_size, shuffle=True) for x in traindata_split]\n",
        "\n",
        "test_loader = torch.utils.data.DataLoader(\n",
        "        datasets.MNIST('./data', train=False, transform=transforms.Compose([transforms.ToTensor(),transforms.Normalize((0.1307,), (0.3081,))])\n",
        "        ), batch_size=batch_size, shuffle=True)\n",
        "\n",
        "# Instantiate models and optimizers\n",
        "\n",
        "if GPUNUM == 0:\n",
        "    global_model = Net().cpu()\n",
        "    client_models = [Net().cpu() for _ in range(num_selected)]\n",
        "else:\n",
        "    global_model = Net().cuda()\n",
        "    client_models = [Net().cuda() for _ in range(num_selected)]\n",
        "\n",
        "# global_model = Net().cuda()\n",
        "# client_models = [Net().cuda() for _ in range(num_selected)]\n",
        "for model in client_models:\n",
        "    model.load_state_dict(global_model.state_dict())\n",
        "\n",
        "opt = [optim.SGD(model.parameters(), lr=0.1) for model in client_models]\n",
        "\n",
        "# Runnining FL\n",
        "train_errors = []\n",
        "train_acc = []\n",
        "val_errors = []\n",
        "val_acc = []\n",
        "for r in range(num_rounds):\n",
        "    # select random clients\n",
        "    client_idx = np.random.permutation(num_clients)[:num_selected]\n",
        "\n",
        "    # client update\n",
        "    loss = 0\n",
        "    acc = 0\n",
        "    for i in range(num_selected):\n",
        "        total_loss,total_acc = client_update(client_models[i], opt[i], train_loader[client_idx[i]], epoch=epochs)\n",
        "        loss+=total_loss\n",
        "        acc+=total_acc\n",
        "\n",
        "    # serer aggregate\n",
        "    server_aggregate(global_model, client_models)\n",
        "    test_loss, test_acc = test(global_model, test_loader)\n",
        "\n",
        "    print('%d-th round' % r)\n",
        "    print('average train loss %0.3g | test loss %0.3g | test acc: %0.3f' % (loss / num_selected, test_loss, test_acc))\n",
        "    # Save info log\n",
        "    case_summary_df_tem = '%d-th round' % r\n",
        "    case_summary_df_atl = loss / num_selected\n",
        "    case_summary_df_tl = test_loss\n",
        "    case_summary_df_ta = test_acc\n",
        "    case_summary_df.update({case_summary_df_tem: [case_summary_df_atl, case_summary_df_tl, case_summary_df_ta]})\n",
        "    # save error acc\n",
        "    train_errors.append(loss/num_selected)\n",
        "    train_acc.append(acc/num_selected)\n",
        "    val_errors.append(test_loss)\n",
        "    val_acc.append(test_acc)\n",
        "\n",
        "# Save info log\n",
        "case_summary = pd.DataFrame(data=case_summary_df, index=summary_idx)\n",
        "print(\"INFO. Summary.\")\n",
        "print(case_summary)\n",
        "summary_fl_iid = case_summary\n",
        "print(\"Trainig Complete.\")\n",
        "\n",
        "fig, ax = plt.subplots(nrows=1, ncols=2)\n",
        "ax[0].plot(train_errors, 'r',label=\"Train\")\n",
        "ax[0].plot(val_errors, 'g', label=\"Validation\")\n",
        "ax[0].set_title(\"Error graph\")\n",
        "ax[0].set_ylabel(\"Error (cross-entropy)\")\n",
        "ax[0].set_xlabel(\"Epoch\")\n",
        "ax[0].legend()\n",
        "ax[1].plot(train_acc, 'r',label=\"Train\")\n",
        "ax[1].plot(val_acc, 'g', label=\"Validation\")\n",
        "ax[1].set_title(\"Accuracy graph\")\n",
        "ax[1].set_ylabel(\"Accuracy\")\n",
        "ax[1].set_xlabel(\"Epoch\")\n",
        "ax[1].legend()\n",
        "plt.show()"
      ]
    },
    {
      "cell_type": "markdown",
      "source": [
        "# NON-IID Case."
      ],
      "metadata": {
        "id": "tD76_65vRV3u"
      }
    },
    {
      "cell_type": "code",
      "execution_count": null,
      "metadata": {
        "id": "6B1uJaaMBcSu",
        "colab": {
          "base_uri": "https://localhost:8080/",
          "height": 1000
        },
        "outputId": "587f050f-71b0-49d9-f296-3c025bc323f9"
      },
      "outputs": [
        {
          "output_type": "stream",
          "name": "stdout",
          "text": [
            "0-th round\n",
            "average train loss 0.141 | test loss 2.45 | test acc: 0.197\n",
            "1-th round\n",
            "average train loss 0.01 | test loss 2.42 | test acc: 0.326\n",
            "2-th round\n",
            "average train loss 0.0387 | test loss 2.19 | test acc: 0.379\n",
            "3-th round\n",
            "average train loss 0.0422 | test loss 3.69 | test acc: 0.198\n",
            "4-th round\n",
            "average train loss 0.00974 | test loss 1.31 | test acc: 0.527\n",
            "5-th round\n",
            "average train loss 0.0126 | test loss 1.76 | test acc: 0.373\n",
            "6-th round\n",
            "average train loss 0.0171 | test loss 1.5 | test acc: 0.479\n",
            "7-th round\n",
            "average train loss 0.00421 | test loss 1.36 | test acc: 0.588\n",
            "8-th round\n",
            "average train loss 0.00152 | test loss 1.74 | test acc: 0.374\n",
            "9-th round\n",
            "average train loss 0.00191 | test loss 1.97 | test acc: 0.451\n",
            "10-th round\n",
            "average train loss 0.00388 | test loss 1.57 | test acc: 0.571\n",
            "11-th round\n",
            "average train loss 0.00224 | test loss 0.79 | test acc: 0.713\n",
            "12-th round\n",
            "average train loss 0.00762 | test loss 0.821 | test acc: 0.672\n",
            "13-th round\n",
            "average train loss 0.00236 | test loss 0.619 | test acc: 0.789\n",
            "14-th round\n",
            "average train loss 0.0013 | test loss 0.956 | test acc: 0.640\n",
            "15-th round\n",
            "average train loss 0.000643 | test loss 1.66 | test acc: 0.522\n",
            "16-th round\n",
            "average train loss 0.00376 | test loss 0.823 | test acc: 0.720\n",
            "17-th round\n",
            "average train loss 0.000793 | test loss 0.946 | test acc: 0.648\n",
            "18-th round\n",
            "average train loss 0.000978 | test loss 0.922 | test acc: 0.692\n",
            "19-th round\n",
            "average train loss 0.000627 | test loss 0.74 | test acc: 0.724\n",
            "20-th round\n",
            "average train loss 0.00188 | test loss 0.511 | test acc: 0.820\n",
            "21-th round\n",
            "average train loss 0.00117 | test loss 1.69 | test acc: 0.479\n",
            "22-th round\n",
            "average train loss 0.00441 | test loss 1.25 | test acc: 0.647\n",
            "23-th round\n",
            "average train loss 0.000818 | test loss 1.15 | test acc: 0.667\n",
            "24-th round\n",
            "average train loss 0.000914 | test loss 0.716 | test acc: 0.748\n",
            "25-th round\n",
            "average train loss 0.000305 | test loss 0.361 | test acc: 0.883\n",
            "26-th round\n",
            "average train loss 0.000662 | test loss 0.417 | test acc: 0.850\n",
            "27-th round\n",
            "average train loss 0.000824 | test loss 0.31 | test acc: 0.898\n",
            "28-th round\n",
            "average train loss 0.000593 | test loss 0.404 | test acc: 0.852\n",
            "29-th round\n",
            "average train loss 0.000835 | test loss 0.463 | test acc: 0.841\n",
            "30-th round\n",
            "average train loss 0.000327 | test loss 0.399 | test acc: 0.859\n",
            "31-th round\n",
            "average train loss 0.000301 | test loss 0.394 | test acc: 0.870\n",
            "32-th round\n",
            "average train loss 0.000969 | test loss 0.504 | test acc: 0.835\n",
            "33-th round\n",
            "average train loss 0.000774 | test loss 0.764 | test acc: 0.742\n",
            "34-th round\n",
            "average train loss 0.00229 | test loss 0.283 | test acc: 0.910\n",
            "35-th round\n",
            "average train loss 0.000758 | test loss 0.27 | test acc: 0.910\n",
            "36-th round\n",
            "average train loss 0.000228 | test loss 0.24 | test acc: 0.920\n",
            "37-th round\n",
            "average train loss 0.000285 | test loss 0.324 | test acc: 0.884\n",
            "38-th round\n",
            "average train loss 0.000847 | test loss 0.382 | test acc: 0.870\n",
            "39-th round\n",
            "average train loss 0.000441 | test loss 0.23 | test acc: 0.923\n",
            "40-th round\n",
            "average train loss 0.000207 | test loss 0.214 | test acc: 0.932\n",
            "41-th round\n",
            "average train loss 0.000517 | test loss 0.223 | test acc: 0.929\n",
            "42-th round\n",
            "average train loss 0.000536 | test loss 0.35 | test acc: 0.879\n",
            "43-th round\n",
            "average train loss 0.000371 | test loss 0.489 | test acc: 0.832\n",
            "44-th round\n",
            "average train loss 0.00076 | test loss 0.298 | test acc: 0.898\n",
            "45-th round\n",
            "average train loss 0.000148 | test loss 0.353 | test acc: 0.879\n",
            "46-th round\n",
            "average train loss 0.00143 | test loss 0.513 | test acc: 0.830\n",
            "47-th round\n",
            "average train loss 0.000168 | test loss 0.485 | test acc: 0.838\n",
            "48-th round\n",
            "average train loss 0.000605 | test loss 0.306 | test acc: 0.894\n",
            "49-th round\n",
            "average train loss 0.00239 | test loss 0.552 | test acc: 0.818\n",
            "INFO. Summary\n",
            "                    0-th round  1-th round  2-th round  3-th round  \\\n",
            "Average Train Loss    0.140981    0.010024    0.038714    0.042180   \n",
            "Test Loss             2.448300    2.415522    2.186870    3.689567   \n",
            "Test Acc              0.197300    0.325600    0.378700    0.198000   \n",
            "\n",
            "                    4-th round  5-th round  6-th round  7-th round  \\\n",
            "Average Train Loss    0.009742    0.012597    0.017063    0.004209   \n",
            "Test Loss             1.307827    1.762308    1.502256    1.358814   \n",
            "Test Acc              0.526800    0.373300    0.478900    0.588300   \n",
            "\n",
            "                    8-th round  9-th round  ...  40-th round  41-th round  \\\n",
            "Average Train Loss    0.001516    0.001913  ...     0.000207     0.000517   \n",
            "Test Loss             1.738472    1.968895  ...     0.213633     0.222592   \n",
            "Test Acc              0.374400    0.451000  ...     0.931800     0.929200   \n",
            "\n",
            "                    42-th round  43-th round  44-th round  45-th round  \\\n",
            "Average Train Loss     0.000536     0.000371     0.000760     0.000148   \n",
            "Test Loss              0.349793     0.488894     0.297918     0.352624   \n",
            "Test Acc               0.878900     0.832100     0.897700     0.878700   \n",
            "\n",
            "                    46-th round  47-th round  48-th round  49-th round  \n",
            "Average Train Loss     0.001429     0.000168     0.000605     0.002392  \n",
            "Test Loss              0.512929     0.484858     0.306364     0.552074  \n",
            "Test Acc               0.829500     0.837800     0.894300     0.818100  \n",
            "\n",
            "[3 rows x 50 columns]\n",
            "Trainig Complete.\n"
          ]
        },
        {
          "output_type": "display_data",
          "data": {
            "text/plain": [
              "<Figure size 640x480 with 2 Axes>"
            ],
            "image/png": "[encoded data removed]"
          },
          "metadata": {}
        }
      ],
      "source": [
        "# NON-IID case: every client has images of two categories chosen from [0, 1], [2, 3], [4, 5], [6, 7], or [8, 9].\n",
        "\n",
        "# Hyperparameters\n",
        "\n",
        "num_clients = 100\n",
        "num_selected = 5\n",
        "num_rounds = 50\n",
        "epochs = 5\n",
        "batch_size = 32\n",
        "\n",
        "# Log.\n",
        "case_summary_df = {}\n",
        "\n",
        "# Creating decentralized datasets\n",
        "\n",
        "traindata = datasets.MNIST('./data', train=True, download=True,\n",
        "                       transform=transforms.Compose([transforms.ToTensor(),transforms.Normalize((0.1307,), (0.3081,))])\n",
        "                       )\n",
        "target_labels = torch.stack([traindata.targets == i for i in range(10)])\n",
        "target_labels_split = []\n",
        "for i in range(5):\n",
        "    target_labels_split += torch.split(torch.where(target_labels[(2 * i):(2 * (i + 1))].sum(0))[0], int(60000 / num_clients))\n",
        "traindata_split = [torch.utils.data.Subset(traindata, tl) for tl in target_labels_split]\n",
        "train_loader = [torch.utils.data.DataLoader(x, batch_size=batch_size, shuffle=True) for x in traindata_split]\n",
        "\n",
        "test_loader = torch.utils.data.DataLoader(\n",
        "        datasets.MNIST('./data', train=False, transform=transforms.Compose([transforms.ToTensor(),transforms.Normalize((0.1307,), (0.3081,))])\n",
        "        ), batch_size=batch_size, shuffle=True)\n",
        "\n",
        "# Instantiate models and optimizers\n",
        "if GPUNUM == 0:\n",
        "    global_model = Net().cpu()\n",
        "    client_models = [Net().cpu() for _ in range(num_selected)]\n",
        "else:\n",
        "    global_model = Net().cuda()\n",
        "    client_models = [Net().cuda() for _ in range(num_selected)]\n",
        "# global_model = Net().cuda()\n",
        "# client_models = [Net().cuda() for _ in range(num_selected)]\n",
        "for model in client_models:\n",
        "    model.load_state_dict(global_model.state_dict())\n",
        "\n",
        "opt = [optim.SGD(model.parameters(), lr=0.1) for model in client_models]\n",
        "\n",
        "# Runnining FL\n",
        "train_errors = []\n",
        "train_acc = []\n",
        "val_errors = []\n",
        "val_acc = []\n",
        "for r in range(num_rounds):\n",
        "    # select random clients\n",
        "    client_idx = np.random.permutation(num_clients)[:num_selected]\n",
        "\n",
        "    # client update\n",
        "    loss = 0\n",
        "    acc = 0\n",
        "    for i in range(num_selected):\n",
        "        total_loss,total_acc = client_update(client_models[i], opt[i], train_loader[client_idx[i]], epoch=epochs)\n",
        "        loss+=total_loss\n",
        "        acc+=total_acc\n",
        "\n",
        "    # serer aggregate\n",
        "    server_aggregate(global_model, client_models)\n",
        "    test_loss, test_acc = test(global_model, test_loader)\n",
        "\n",
        "    train_errors.append(loss/num_selected)\n",
        "    train_acc.append(acc/num_selected)\n",
        "    val_errors.append(test_loss)\n",
        "    val_acc.append(test_acc)\n",
        "\n",
        "    print('%d-th round' % r)\n",
        "    print('average train loss %0.3g | test loss %0.3g | test acc: %0.3f' % (loss / num_selected, test_loss, test_acc))\n",
        "    # Save info log\n",
        "    case_summary_df_tem = '%d-th round' % r\n",
        "    case_summary_df_atl = loss / num_selected\n",
        "    case_summary_df_tl = test_loss\n",
        "    case_summary_df_ta = test_acc\n",
        "    case_summary_df.update({case_summary_df_tem: [case_summary_df_atl, case_summary_df_tl, case_summary_df_ta]})\n",
        "    # save error acc\n",
        "    train_errors.append(loss/num_selected)\n",
        "    train_acc.append(acc/num_selected)\n",
        "    val_errors.append(test_loss)\n",
        "    val_acc.append(test_acc)\n",
        "\n",
        "# Save info log\n",
        "case_summary = pd.DataFrame(data=case_summary_df, index=summary_idx)\n",
        "print(\"INFO. Summary\")\n",
        "print(case_summary)\n",
        "summary_fl_noniid = case_summary\n",
        "print(\"Trainig Complete.\")\n",
        "\n",
        "fig, ax = plt.subplots(nrows=1, ncols=2)\n",
        "ax[0].plot(train_errors, 'r',label=\"Train\")\n",
        "ax[0].plot(val_errors, 'g', label=\"Validation\")\n",
        "ax[0].set_title(\"Error graph\")\n",
        "ax[0].set_ylabel(\"Error (cross-entropy)\")\n",
        "ax[0].set_xlabel(\"Epoch\")\n",
        "ax[0].legend()\n",
        "ax[1].plot(train_acc, 'r',label=\"Train\")\n",
        "ax[1].plot(val_acc, 'g', label=\"Validation\")\n",
        "ax[1].set_title(\"Accuracy graph\")\n",
        "ax[1].set_ylabel(\"Accuracy\")\n",
        "ax[1].set_xlabel(\"Epoch\")\n",
        "ax[1].legend()\n",
        "plt.show()"
      ]
    },
    {
      "cell_type": "markdown",
      "source": [
        "# Local, Centralization Case."
      ],
      "metadata": {
        "id": "fDvhYGSURb_q"
      }
    },
    {
      "cell_type": "code",
      "execution_count": null,
      "metadata": {
        "id": "DJYujuAWBcSu",
        "colab": {
          "base_uri": "https://localhost:8080/",
          "height": 1000
        },
        "outputId": "8eb1f368-0b20-4960-a22e-17d689c95077"
      },
      "outputs": [
        {
          "output_type": "stream",
          "name": "stdout",
          "text": [
            "0-th round\n",
            "average train loss 0.023 | test loss 0.0229 | test acc: 0.241\n",
            "1-th round\n",
            "average train loss 0.0228 | test loss 0.0224 | test acc: 0.416\n",
            "2-th round\n",
            "average train loss 0.0149 | test loss 0.00522 | test acc: 0.848\n",
            "3-th round\n",
            "average train loss 0.00423 | test loss 0.00355 | test acc: 0.890\n",
            "4-th round\n",
            "average train loss 0.00333 | test loss 0.00314 | test acc: 0.902\n",
            "5-th round\n",
            "average train loss 0.00282 | test loss 0.00262 | test acc: 0.920\n",
            "6-th round\n",
            "average train loss 0.00244 | test loss 0.00231 | test acc: 0.928\n",
            "7-th round\n",
            "average train loss 0.00213 | test loss 0.00198 | test acc: 0.941\n",
            "8-th round\n",
            "average train loss 0.00188 | test loss 0.00188 | test acc: 0.944\n",
            "9-th round\n",
            "average train loss 0.00168 | test loss 0.0017 | test acc: 0.947\n",
            "INFO. Summary.\n",
            "                    0-th round  1-th round  2-th round  3-th round  \\\n",
            "Average Train Loss    0.022993    0.022781    0.014926    0.004234   \n",
            "Test Loss             0.022939    0.022413    0.005216    0.003555   \n",
            "Test Acc              0.241333    0.416167    0.848167    0.889833   \n",
            "\n",
            "                    4-th round  5-th round  6-th round  7-th round  \\\n",
            "Average Train Loss    0.003325    0.002818    0.002435    0.002132   \n",
            "Test Loss             0.003135    0.002616    0.002310    0.001981   \n",
            "Test Acc              0.901833    0.920167    0.928500    0.940667   \n",
            "\n",
            "                    8-th round  9-th round  \n",
            "Average Train Loss    0.001875    0.001683  \n",
            "Test Loss             0.001882    0.001697  \n",
            "Test Acc              0.943500    0.946667  \n",
            "Trainig Complete.\n"
          ]
        },
        {
          "output_type": "display_data",
          "data": {
            "text/plain": [
              "<Figure size 640x480 with 2 Axes>"
            ],
            "image/png": "[encoded data removed]"
          },
          "metadata": {}
        },
        {
          "output_type": "stream",
          "name": "stdout",
          "text": [
            "Test accuracy : 0.9519\n"
          ]
        }
      ],
      "source": [
        "# Local, Centralization Case : Classic deep learning training method.\n",
        "\n",
        "\"\"\"CNN MNIST.ipynb\n",
        "Automatically generated by Colaboratory. Original file is located at ...\n",
        "Reference :\n",
        " - https://colab.research.google.com/drive/14YB2h3vxvxOanJc1yDDEqw0O4atiz7Rm\n",
        " - https://github.com/dandiws/CNN-MNIST-pytorch/blob/master/cnn_mnist.py\n",
        "\"\"\"\n",
        "\n",
        "# Hyperparameters\n",
        "\n",
        "batch_size = 100\n",
        "validation_split = .1\n",
        "shuffle_dataset = True\n",
        "random_seed= 2\n",
        "num_rounds = 10\n",
        "\n",
        "# Log.\n",
        "case_summary_df = {}\n",
        "\n",
        "# Creating decentralized datasets\n",
        "train_ds = datasets.MNIST('./data',train=True,download=True, transform=transforms.Compose([transforms.ToTensor()]))\n",
        "\n",
        "# Creating data indices for training and validation splits:\n",
        "dataset_size = len(train_ds)\n",
        "indices = list(range(dataset_size))\n",
        "split = int(np.floor(validation_split * dataset_size))\n",
        "if shuffle_dataset :\n",
        "    np.random.seed(random_seed)\n",
        "    np.random.shuffle(indices)\n",
        "train_indices, val_indices = indices[split:], indices[:split]\n",
        "# Creating PT data samplers and loaders:\n",
        "train_sampler = torch.utils.data.SubsetRandomSampler(train_indices)\n",
        "valid_sampler = torch.utils.data.SubsetRandomSampler(val_indices)\n",
        "\n",
        "train_loader = torch.utils.data.DataLoader(train_ds, batch_size=batch_size, sampler=train_sampler)\n",
        "validation_loader = torch.utils.data.DataLoader(train_ds, batch_size=batch_size, sampler=valid_sampler)\n",
        "\n",
        "test_loader = torch.utils.data.DataLoader( datasets.MNIST('./data',train=False,download=True,\n",
        "    transform=transforms.Compose([transforms.ToTensor()])),batch_size=batch_size,shuffle=True)\n",
        "\n",
        "if GPUNUM == 0:\n",
        "    model = Net().cpu()\n",
        "else:\n",
        "    model = Net().cuda()\n",
        "optimizer = optim.SGD(model.parameters(),lr=0.01)\n",
        "criterion = nn.CrossEntropyLoss()\n",
        "\n",
        "train_errors = []\n",
        "train_acc = []\n",
        "val_errors = []\n",
        "val_acc = []\n",
        "n_train = len(train_loader)*batch_size\n",
        "n_val = len(validation_loader)*batch_size\n",
        "\n",
        "for r in range(num_rounds):\n",
        "  total_loss = 0\n",
        "  total_acc = 0\n",
        "  c = 0\n",
        "  for images,labels in train_loader:\n",
        "    if GPUNUM == 0:\n",
        "      images = images.cpu()\n",
        "      labels = labels.cpu()\n",
        "    else:\n",
        "      images = images.cuda()\n",
        "      labels = labels.cuda()\n",
        "\n",
        "    optimizer.zero_grad()\n",
        "    output = model(images)\n",
        "    loss = criterion(output,labels)\n",
        "    loss.backward()\n",
        "    optimizer.step()\n",
        "\n",
        "    total_loss+=loss.item()\n",
        "    total_acc+=torch.sum(torch.max(output,dim=1)[1]==labels).item()*1.0\n",
        "    c+=1\n",
        "\n",
        "  # Validation\n",
        "  total_loss_val = 0\n",
        "  total_acc_val = 0\n",
        "  c = 0\n",
        "  for images,labels in validation_loader:\n",
        "    if GPUNUM == 0:\n",
        "      images = images.cpu()\n",
        "      labels = labels.cpu()\n",
        "    else:\n",
        "      images = images.cuda()\n",
        "      labels = labels.cuda()\n",
        "    output = model(images)\n",
        "    loss = criterion(output,labels)\n",
        "\n",
        "    total_loss_val +=loss.item()\n",
        "    total_acc_val +=torch.sum(torch.max(output,dim=1)[1]==labels).item()*1.0\n",
        "    c+=1\n",
        "\n",
        "  print('%d-th round' % r)\n",
        "  print('average train loss %0.3g | test loss %0.3g | test acc: %0.3f' % (total_loss / n_train, total_loss_val/n_val, total_acc_val/n_val))\n",
        "  # Save info log\n",
        "  case_summary_df_tem = '%d-th round' % r\n",
        "  case_summary_df_atl = (total_loss / n_train)\n",
        "  case_summary_df_tl = total_loss_val/n_val\n",
        "  case_summary_df_ta = total_acc_val/n_val\n",
        "  case_summary_df.update({case_summary_df_tem: [case_summary_df_atl, case_summary_df_tl, case_summary_df_ta]})\n",
        "  train_errors.append(total_loss/n_train)\n",
        "  train_acc.append(total_acc/n_train)\n",
        "  val_errors.append(total_loss_val/n_val)\n",
        "  val_acc.append(total_acc_val/n_val)\n",
        "\n",
        "# Save info log\n",
        "# print(case_summary_df)\n",
        "# print(type(case_summary_df))\n",
        "case_summary = pd.DataFrame(data=case_summary_df, index=summary_idx)\n",
        "print(\"INFO. Summary.\")\n",
        "print(case_summary)\n",
        "summary_centralization = case_summary\n",
        "print(\"Trainig Complete.\")\n",
        "\n",
        "fig, ax = plt.subplots(nrows=1, ncols=2)\n",
        "ax[0].plot(train_errors, 'r',label=\"Train\")\n",
        "ax[0].plot(val_errors, 'g', label=\"Validation\")\n",
        "ax[0].set_title(\"Error graph\")\n",
        "ax[0].set_ylabel(\"Error (cross-entropy)\")\n",
        "ax[0].set_xlabel(\"Epoch\")\n",
        "ax[0].legend()\n",
        "ax[1].plot(train_acc, 'r',label=\"Train\")\n",
        "ax[1].plot(val_acc, 'g', label=\"Validation\")\n",
        "ax[1].set_title(\"Accuracy graph\")\n",
        "ax[1].set_ylabel(\"Accuracy\")\n",
        "ax[1].set_xlabel(\"Epoch\")\n",
        "ax[1].legend()\n",
        "plt.show()\n",
        "\n",
        "total_acc = 0\n",
        "for images,labels in test_loader:\n",
        "  if GPUNUM == 0:\n",
        "    images = images.cpu()\n",
        "    labels = labels.cpu()\n",
        "  else:\n",
        "    images = images.cuda()\n",
        "    labels = labels.cuda()\n",
        "  # images = images.cuda()\n",
        "  # labels = labels.cuda()\n",
        "  output = model(images)\n",
        "  total_acc+=torch.sum(torch.max(output,dim=1)[1]==labels).item()*1.0\n",
        "\n",
        "print(\"Test accuracy :\",total_acc/len(test_loader.dataset))"
      ]
    },
    {
      "cell_type": "markdown",
      "source": [
        "# Summary."
      ],
      "metadata": {
        "id": "eMbUhNTlSPMg"
      }
    },
    {
      "cell_type": "code",
      "source": [
        "print('FL IID.')\n",
        "print(summary_fl_iid)\n",
        "print('FL IID. End.')\n",
        "print('FL Non-IID.')\n",
        "print(summary_fl_noniid)\n",
        "print('FL Non-IID. End.')\n",
        "print('Centralization')\n",
        "print(summary_centralization)\n",
        "print('Centralization End.')"
      ],
      "metadata": {
        "id": "xKuIATqubYVc",
        "colab": {
          "base_uri": "https://localhost:8080/"
        },
        "outputId": "f11ef990-4311-4366-a450-a9b05b77b2b5"
      },
      "execution_count": null,
      "outputs": [
        {
          "output_type": "stream",
          "name": "stdout",
          "text": [
            "FL IID.\n",
            "                    0-th round  1-th round  2-th round  3-th round  4-th round\n",
            "Average Train Loss    0.823798    0.244643    0.060557    0.033372    0.013370\n",
            "Test Loss             0.650846    0.302743    0.222621    0.192596    0.163995\n",
            "Test Acc              0.805500    0.912900    0.934300    0.946600    0.955000\n",
            "FL IID. End.\n",
            "FL Non-IID.\n",
            "                    0-th round  1-th round  2-th round  3-th round  \\\n",
            "Average Train Loss    0.140981    0.010024    0.038714    0.042180   \n",
            "Test Loss             2.448300    2.415522    2.186870    3.689567   \n",
            "Test Acc              0.197300    0.325600    0.378700    0.198000   \n",
            "\n",
            "                    4-th round  5-th round  6-th round  7-th round  \\\n",
            "Average Train Loss    0.009742    0.012597    0.017063    0.004209   \n",
            "Test Loss             1.307827    1.762308    1.502256    1.358814   \n",
            "Test Acc              0.526800    0.373300    0.478900    0.588300   \n",
            "\n",
            "                    8-th round  9-th round  ...  40-th round  41-th round  \\\n",
            "Average Train Loss    0.001516    0.001913  ...     0.000207     0.000517   \n",
            "Test Loss             1.738472    1.968895  ...     0.213633     0.222592   \n",
            "Test Acc              0.374400    0.451000  ...     0.931800     0.929200   \n",
            "\n",
            "                    42-th round  43-th round  44-th round  45-th round  \\\n",
            "Average Train Loss     0.000536     0.000371     0.000760     0.000148   \n",
            "Test Loss              0.349793     0.488894     0.297918     0.352624   \n",
            "Test Acc               0.878900     0.832100     0.897700     0.878700   \n",
            "\n",
            "                    46-th round  47-th round  48-th round  49-th round  \n",
            "Average Train Loss     0.001429     0.000168     0.000605     0.002392  \n",
            "Test Loss              0.512929     0.484858     0.306364     0.552074  \n",
            "Test Acc               0.829500     0.837800     0.894300     0.818100  \n",
            "\n",
            "[3 rows x 50 columns]\n",
            "FL Non-IID. End.\n",
            "Centralization\n",
            "                    0-th round  1-th round  2-th round  3-th round  \\\n",
            "Average Train Loss    0.022993    0.022781    0.014926    0.004234   \n",
            "Test Loss             0.022939    0.022413    0.005216    0.003555   \n",
            "Test Acc              0.241333    0.416167    0.848167    0.889833   \n",
            "\n",
            "                    4-th round  5-th round  6-th round  7-th round  \\\n",
            "Average Train Loss    0.003325    0.002818    0.002435    0.002132   \n",
            "Test Loss             0.003135    0.002616    0.002310    0.001981   \n",
            "Test Acc              0.901833    0.920167    0.928500    0.940667   \n",
            "\n",
            "                    8-th round  9-th round  \n",
            "Average Train Loss    0.001875    0.001683  \n",
            "Test Loss             0.001882    0.001697  \n",
            "Test Acc              0.943500    0.946667  \n",
            "Centralization End.\n"
          ]
        }
      ]
    }
  ],
  "metadata": {
    "colab": {
      "provenance": [],
      "gpuType": "T4"
    },
    "kernelspec": {
      "display_name": "Python 3",
      "name": "python3"
    },
    "language_info": {
      "codemirror_mode": {
        "name": "ipython",
        "version": 3
      },
      "file_extension": ".py",
      "mimetype": "text/x-python",
      "name": "python",
      "nbconvert_exporter": "python",
      "pygments_lexer": "ipython3",
      "version": "3.11.9"
    },
    "accelerator": "GPU"
  },
  "nbformat": 4,
  "nbformat_minor": 0
}