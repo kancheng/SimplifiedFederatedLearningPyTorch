{
  "nbformat": 4,
  "nbformat_minor": 0,
  "metadata": {
    "colab": {
      "provenance": []
    },
    "kernelspec": {
      "name": "python3",
      "display_name": "Python 3"
    },
    "accelerator": "GPU"
  },
  "cells": [
    {
      "metadata": {
        "id": "hJLh6JZHsZTQ"
      },
      "cell_type": "code",
      "source": [
        "import torch\n",
        "import torch.nn as nn\n",
        "import torch.nn.functional as F\n",
        "import torch.optim as optim\n",
        "from torchvision import datasets, transforms\n",
        "import numpy as np\n",
        "\n",
        "from PIL import Image\n",
        "import matplotlib.image as mpimg\n",
        "import matplotlib.pyplot as plt\n",
        "\n",
        "torch.manual_seed(2)\n",
        "torch.cuda.manual_seed_all(2)"
      ],
      "execution_count": 1,
      "outputs": []
    },
    {
      "metadata": {
        "id": "MM0N4obDtH4D"
      },
      "cell_type": "code",
      "source": [
        "def im_convert(tensor):\n",
        "  image = tensor.to(\"cpu\").clone().detach()\n",
        "  image = image.numpy().squeeze()\n",
        "  return image"
      ],
      "execution_count": 2,
      "outputs": []
    },
    {
      "metadata": {
        "id": "2-swNwdQtkpP"
      },
      "cell_type": "code",
      "source": [
        "class Net(nn.Module):\n",
        "  def __init__(self):\n",
        "    super(Net,self).__init__()\n",
        "    self.conv1 = nn.Conv2d(1,10,kernel_size=5,stride=1)\n",
        "    self.conv2 = nn.Conv2d(10,10,kernel_size=5,stride=1)\n",
        "    self.pool = nn.MaxPool2d(kernel_size=2,stride=2) #2x2 maxpool\n",
        "    self.fc1 = nn.Linear(4*4*10,100)\n",
        "    self.fc2 = nn.Linear(100,10)\n",
        "\n",
        "  def forward(self,x):\n",
        "    x = F.relu(self.conv1(x)) #24x24x10\n",
        "    x = self.pool(x) #12x12x10\n",
        "    x = F.relu(self.conv2(x)) #8x8x10\n",
        "    x = self.pool(x) #4x4x10\n",
        "    x = x.view(-1, 4*4*10) #flattening\n",
        "    x = F.relu(self.fc1(x))\n",
        "    x = self.fc2(x)\n",
        "    return x\n"
      ],
      "execution_count": 3,
      "outputs": []
    },
    {
      "metadata": {
        "id": "qJmXjJgxupVM",
        "outputId": "ceb8f33d-46a1-4664-a96f-50e4ab84e1fc",
        "colab": {
          "base_uri": "https://localhost:8080/"
        }
      },
      "cell_type": "code",
      "source": [
        "train_ds = datasets.MNIST('./data',train=True,download=True, transform=transforms.Compose([transforms.ToTensor()]))\n",
        "batch_size = 100\n",
        "validation_split = .1\n",
        "shuffle_dataset = True\n",
        "random_seed= 2\n",
        "\n",
        "# Creating data indices for training and validation splits:\n",
        "dataset_size = len(train_ds)\n",
        "indices = list(range(dataset_size))\n",
        "split = int(np.floor(validation_split * dataset_size))\n",
        "if shuffle_dataset :\n",
        "    np.random.seed(random_seed)\n",
        "    np.random.shuffle(indices)\n",
        "train_indices, val_indices = indices[split:], indices[:split]\n",
        "# Creating PT data samplers and loaders:\n",
        "train_sampler = torch.utils.data.SubsetRandomSampler(train_indices)\n",
        "valid_sampler = torch.utils.data.SubsetRandomSampler(val_indices)\n",
        "\n",
        "\n",
        "train_loader = torch.utils.data.DataLoader(train_ds, batch_size=batch_size, sampler=train_sampler)\n",
        "validation_loader = torch.utils.data.DataLoader(train_ds, batch_size=batch_size, sampler=valid_sampler)\n",
        "\n",
        "test_loader = torch.utils.data.DataLoader(\n",
        "    datasets.MNIST('./data',train=False,download=True,\n",
        "      transform=transforms.Compose([transforms.ToTensor()])),batch_size=batch_size,shuffle=True)\n",
        "\n",
        "# fig, ax = plt.subplots(nrows=2,ncols=3)\n",
        "\n",
        "# i=0\n",
        "# for row in ax:\n",
        "#   for col in row:\n",
        "#     col.imshow(im_convert(train_loader.dataset[i][0]))\n",
        "#     col.set_title(\"digit \"+str(train_loader.dataset[i][1]))\n",
        "#     col.axis(\"off\")\n",
        "#     i+=1\n",
        "\n"
      ],
      "execution_count": 4,
      "outputs": [
        {
          "output_type": "stream",
          "name": "stdout",
          "text": [
            "Downloading http://yann.lecun.com/exdb/mnist/train-images-idx3-ubyte.gz\n",
            "Failed to download (trying next):\n",
            "HTTP Error 403: Forbidden\n",
            "\n",
            "Downloading https://ossci-datasets.s3.amazonaws.com/mnist/train-images-idx3-ubyte.gz\n",
            "Downloading https://ossci-datasets.s3.amazonaws.com/mnist/train-images-idx3-ubyte.gz to ./data/MNIST/raw/train-images-idx3-ubyte.gz\n"
          ]
        },
        {
          "output_type": "stream",
          "name": "stderr",
          "text": [
            "100%|██████████| 9912422/9912422 [00:00<00:00, 16149450.75it/s]\n"
          ]
        },
        {
          "output_type": "stream",
          "name": "stdout",
          "text": [
            "Extracting ./data/MNIST/raw/train-images-idx3-ubyte.gz to ./data/MNIST/raw\n",
            "\n",
            "Downloading http://yann.lecun.com/exdb/mnist/train-labels-idx1-ubyte.gz\n",
            "Failed to download (trying next):\n",
            "HTTP Error 403: Forbidden\n",
            "\n",
            "Downloading https://ossci-datasets.s3.amazonaws.com/mnist/train-labels-idx1-ubyte.gz\n",
            "Downloading https://ossci-datasets.s3.amazonaws.com/mnist/train-labels-idx1-ubyte.gz to ./data/MNIST/raw/train-labels-idx1-ubyte.gz\n"
          ]
        },
        {
          "output_type": "stream",
          "name": "stderr",
          "text": [
            "100%|██████████| 28881/28881 [00:00<00:00, 486864.14it/s]\n"
          ]
        },
        {
          "output_type": "stream",
          "name": "stdout",
          "text": [
            "Extracting ./data/MNIST/raw/train-labels-idx1-ubyte.gz to ./data/MNIST/raw\n",
            "\n",
            "Downloading http://yann.lecun.com/exdb/mnist/t10k-images-idx3-ubyte.gz\n",
            "Failed to download (trying next):\n",
            "HTTP Error 403: Forbidden\n",
            "\n",
            "Downloading https://ossci-datasets.s3.amazonaws.com/mnist/t10k-images-idx3-ubyte.gz\n",
            "Downloading https://ossci-datasets.s3.amazonaws.com/mnist/t10k-images-idx3-ubyte.gz to ./data/MNIST/raw/t10k-images-idx3-ubyte.gz\n"
          ]
        },
        {
          "output_type": "stream",
          "name": "stderr",
          "text": [
            "100%|██████████| 1648877/1648877 [00:00<00:00, 4411382.13it/s]\n"
          ]
        },
        {
          "output_type": "stream",
          "name": "stdout",
          "text": [
            "Extracting ./data/MNIST/raw/t10k-images-idx3-ubyte.gz to ./data/MNIST/raw\n",
            "\n",
            "Downloading http://yann.lecun.com/exdb/mnist/t10k-labels-idx1-ubyte.gz\n",
            "Failed to download (trying next):\n",
            "HTTP Error 403: Forbidden\n",
            "\n",
            "Downloading https://ossci-datasets.s3.amazonaws.com/mnist/t10k-labels-idx1-ubyte.gz\n",
            "Downloading https://ossci-datasets.s3.amazonaws.com/mnist/t10k-labels-idx1-ubyte.gz to ./data/MNIST/raw/t10k-labels-idx1-ubyte.gz\n"
          ]
        },
        {
          "output_type": "stream",
          "name": "stderr",
          "text": [
            "100%|██████████| 4542/4542 [00:00<00:00, 11179887.77it/s]\n"
          ]
        },
        {
          "output_type": "stream",
          "name": "stdout",
          "text": [
            "Extracting ./data/MNIST/raw/t10k-labels-idx1-ubyte.gz to ./data/MNIST/raw\n",
            "\n"
          ]
        }
      ]
    },
    {
      "metadata": {
        "id": "_RP3rbZevwtu",
        "outputId": "e1fe6728-ee04-46ad-b42b-f8c85d796ff3",
        "colab": {
          "base_uri": "https://localhost:8080/"
        }
      },
      "cell_type": "code",
      "source": [
        "model = Net().cuda()\n",
        "optimizer = optim.SGD(model.parameters(),lr=0.01)\n",
        "criterion = nn.CrossEntropyLoss()\n",
        "\n",
        "train_errors = []\n",
        "train_acc = []\n",
        "val_errors = []\n",
        "val_acc = []\n",
        "n_train = len(train_loader)*batch_size\n",
        "n_val = len(validation_loader)*batch_size\n",
        "\n",
        "for i in range(10):\n",
        "  total_loss = 0\n",
        "  total_acc = 0\n",
        "  c = 0\n",
        "  for images,labels in train_loader:\n",
        "    images = images.cuda()\n",
        "    labels = labels.cuda()\n",
        "\n",
        "    optimizer.zero_grad()\n",
        "    output = model(images)\n",
        "    loss = criterion(output,labels)\n",
        "    loss.backward()\n",
        "    optimizer.step()\n",
        "\n",
        "    total_loss+=loss.item()\n",
        "    total_acc+=torch.sum(torch.max(output,dim=1)[1]==labels).item()*1.0\n",
        "    c+=1\n",
        "  # Validation\n",
        "  total_loss_val = 0\n",
        "  total_acc_val = 0\n",
        "  c = 0\n",
        "  for images,labels in validation_loader:\n",
        "    images = images.cuda()\n",
        "    labels = labels.cuda()\n",
        "    output = model(images)\n",
        "    loss = criterion(output,labels)\n",
        "\n",
        "    total_loss_val +=loss.item()\n",
        "    total_acc_val +=torch.sum(torch.max(output,dim=1)[1]==labels).item()*1.0\n",
        "    c+=1\n",
        "\n",
        "  train_errors.append(total_loss/n_train)\n",
        "  train_acc.append(total_acc/n_train)\n",
        "  val_errors.append(total_loss_val/n_val)\n",
        "  val_acc.append(total_acc_val/n_val)\n",
        "\n",
        "print(\"Trainig Complete.\")"
      ],
      "execution_count": 5,
      "outputs": [
        {
          "output_type": "stream",
          "name": "stdout",
          "text": [
            "Trainig Complete.\n"
          ]
        }
      ]
    },
    {
      "metadata": {
        "id": "UQhp0dKMZxSY",
        "colab": {
          "base_uri": "https://localhost:8080/",
          "height": 472
        },
        "outputId": "ca5613a9-ce89-4369-a53e-446a7a820275"
      },
      "cell_type": "code",
      "source": [
        "fig, ax = plt.subplots(nrows=1, ncols=2)\n",
        "ax[0].plot(train_errors, 'r',label=\"Train\")\n",
        "ax[0].plot(val_errors, 'g', label=\"Validation\")\n",
        "ax[0].set_title(\"Error graph\")\n",
        "ax[0].set_ylabel(\"Error (cross-entropy)\")\n",
        "ax[0].set_xlabel(\"Epoch\")\n",
        "ax[0].legend()\n",
        "ax[1].plot(train_acc, 'r',label=\"Train\")\n",
        "ax[1].plot(val_acc, 'g', label=\"Validation\")\n",
        "ax[1].set_title(\"Accuracy graph\")\n",
        "ax[1].set_ylabel(\"Accuracy\")\n",
        "ax[1].set_xlabel(\"Epoch\")\n",
        "ax[1].legend()\n",
        "plt.show()"
      ],
      "execution_count": 6,
      "outputs": [
        {
          "output_type": "display_data",
          "data": {
            "text/plain": [
              "<Figure size 640x480 with 2 Axes>"
            ],
            "image/png": "[encoded data removed]"
          },
          "metadata": {}
        }
      ]
    },
    {
      "metadata": {
        "id": "4f17ipeJzig5",
        "outputId": "5224b02b-e705-4083-fe3a-f63551d86b4e",
        "colab": {
          "base_uri": "https://localhost:8080/"
        }
      },
      "cell_type": "code",
      "source": [
        "total_acc = 0\n",
        "for images,labels in test_loader:\n",
        "  images = images.cuda()\n",
        "  labels = labels.cuda()\n",
        "  output = model(images)\n",
        "  total_acc+=torch.sum(torch.max(output,dim=1)[1]==labels).item()*1.0\n",
        "\n",
        "print(\"Test accuracy :\",total_acc/len(test_loader.dataset))"
      ],
      "execution_count": 7,
      "outputs": [
        {
          "output_type": "stream",
          "name": "stdout",
          "text": [
            "Test accuracy : 0.9728\n"
          ]
        }
      ]
    },
    {
      "metadata": {
        "id": "WhXh5IRGz0bF"
      },
      "cell_type": "code",
      "source": [],
      "execution_count": 7,
      "outputs": []
    }
  ]
}